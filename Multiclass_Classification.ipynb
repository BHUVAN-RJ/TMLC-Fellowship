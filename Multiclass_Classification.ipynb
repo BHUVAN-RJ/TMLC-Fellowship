{
  "nbformat": 4,
  "nbformat_minor": 0,
  "metadata": {
    "colab": {
      "provenance": [],
      "collapsed_sections": [],
      "include_colab_link": true
    },
    "kernelspec": {
      "name": "python3",
      "display_name": "Python 3"
    },
    "language_info": {
      "name": "python"
    }
  },
  "cells": [
    {
      "cell_type": "markdown",
      "metadata": {
        "id": "view-in-github",
        "colab_type": "text"
      },
      "source": [
        "<a href=\"https://colab.research.google.com/github/BHUVAN-RJ/TMLC-Fellowship/blob/main/Multiclass_Classification.ipynb\" target=\"_parent\"><img src=\"https://colab.research.google.com/assets/colab-badge.svg\" alt=\"Open In Colab\"/></a>"
      ]
    },
    {
      "cell_type": "markdown",
      "metadata": {
        "id": "tghAAZpRhrHw"
      },
      "source": [
        "# Multiclass Image Classification using CNN (KERAS)"
      ]
    },
    {
      "cell_type": "markdown",
      "metadata": {
        "id": "k3F3GeeOh2ti"
      },
      "source": [
        "## Step 1. Load data directory from Kaggle using API"
      ]
    },
    {
      "cell_type": "code",
      "metadata": {
        "id": "rCK-u2PXXgFo"
      },
      "source": [
        "import os\n",
        "os.environ['KAGGLE_USERNAME'] = \"bhuvanrj\" # username from the json file\n",
        "os.environ['KAGGLE_KEY'] = \"f57a72acda66ee9152f2618c770b4c82\" # key from the json file"
      ],
      "execution_count": null,
      "outputs": []
    },
    {
      "cell_type": "code",
      "metadata": {
        "colab": {
          "base_uri": "https://localhost:8080/"
        },
        "id": "XMHpsmUe6Wh0",
        "outputId": "6ced9f00-98f5-4d98-cda4-f8679ef17164"
      },
      "source": [
        "!kaggle datasets download -d saurabhshahane/barkvn50"
      ],
      "execution_count": null,
      "outputs": [
        {
          "output_type": "stream",
          "name": "stdout",
          "text": [
            "Downloading barkvn50.zip to /content\n",
            " 91% 160M/176M [00:00<00:00, 204MB/s]\n",
            "100% 176M/176M [00:00<00:00, 208MB/s]\n"
          ]
        }
      ]
    },
    {
      "cell_type": "code",
      "metadata": {
        "colab": {
          "base_uri": "https://localhost:8080/"
        },
        "id": "WrE3b_HwX64r",
        "outputId": "ae0e4702-baf4-4bc6-f5ed-a07763d6aba8"
      },
      "source": [
        "# Unzip training data\n",
        "from zipfile import ZipFile\n",
        "file_name = \"/content/barkvn50.zip\"\n",
        "with ZipFile(file_name, 'r') as zip:\n",
        "  zip.extractall()\n",
        "  print('done')"
      ],
      "execution_count": null,
      "outputs": [
        {
          "output_type": "stream",
          "name": "stdout",
          "text": [
            "done\n"
          ]
        }
      ]
    },
    {
      "cell_type": "markdown",
      "metadata": {
        "id": "SKAmDqKW-8Hr"
      },
      "source": [
        "## Step 2. Exploratory Data Analysis (EDA) "
      ]
    },
    {
      "cell_type": "code",
      "metadata": {
        "colab": {
          "base_uri": "https://localhost:8080/"
        },
        "id": "49JoYdpf5brP",
        "outputId": "903cf853-f12a-4c7d-a6aa-a33a597d396e"
      },
      "source": [
        "import warnings\n",
        "warnings.filterwarnings('ignore')\n",
        "# Get all the paths\n",
        "data_dir_list = os.listdir('/content/BarkVN-50/BarkVN-50_mendeley')\n",
        "print(data_dir_list)\n",
        "path, dirs, files = next(os.walk(\"/content/BarkVN-50/BarkVN-50_mendeley\"))\n",
        "file_count = len(files)\n",
        "print(file_count)"
      ],
      "execution_count": null,
      "outputs": [
        {
          "output_type": "stream",
          "name": "stdout",
          "text": [
            "['Casuarina equisetifolia', 'Musa', 'Citrus aurantiifolia', 'Polyalthia longifolia', 'Wrightia', 'Ficus racemosa', 'Erythrina fusca', 'Artocarpus altilis', 'Barringtonia acutangula', 'Prunus salicina', 'Cocos nucifera', 'Adenium species', 'Dalbergia oliveri', 'Khaya senegalensis A.Juss', 'Cananga odorata', 'Adenanthera microsperma', 'Artocarpus heterophyllus', 'Senna siamea', 'Psidium guajava', 'Hevea brasiliensis', 'Melia azedarach', 'Melaleuca', 'Chrysophyllum cainino', 'Tectona grandis', 'Cedrus', 'Eucalyptus', 'Veitchia merrilli', 'Persea', 'Khaya senegalensis', 'Magnolia alba', 'Acacia', 'Spondias mombin L', 'Terminalia catappa', 'Lagerstroemia speciosa', 'Nephelium lappaceum', 'Annona squamosa', 'Gmelina arborea Roxb', 'Delonix regia', 'Hopea', 'Anacardium occidentale', 'Dipterocarpus alatus', 'Citrus grandis', 'Syzygium nervosum', 'Wrightia religiosa', 'Ficus microcarpa', 'Carica papaya', 'Prunnus', 'Pterocarpus macrocarpus', 'Mangifera', 'Tamarindus indica']\n",
            "0\n"
          ]
        }
      ]
    },
    {
      "cell_type": "code",
      "metadata": {
        "id": "QZmUjGzW51-X"
      },
      "source": [
        "# Make new base directory\n",
        "original_dataset_dir = '/content/BarkVN-50/BarkVN-50_mendeley'\n",
        "base_dir = '/content/bark-data/'\n",
        "os.mkdir(base_dir)"
      ],
      "execution_count": null,
      "outputs": []
    },
    {
      "cell_type": "code",
      "metadata": {
        "id": "IT52f9Uq6DWD"
      },
      "source": [
        "#create two folders (train and validation)\n",
        "train_dir = os.path.join(base_dir, 'train')\n",
        "os.mkdir(train_dir)\n",
        "\n",
        "validation_dir = os.path.join(base_dir, 'validation')\n",
        "os.mkdir(validation_dir)\n",
        "\n",
        "#Under train folder create sub folders \n",
        "\n",
        "for dir_name in data_dir_list:\n",
        "  name = f\"train_{dir_name}_dir\"\n",
        "  name = os.path.join(train_dir, dir_name)\n",
        "  os.mkdir(name)\n",
        "\n",
        "#Under validation folder create sub folders \n",
        "\n",
        "for dir_name in data_dir_list:\n",
        "  name = f\"validation_{dir_name}_dir\"\n",
        "  name = os.path.join(validation_dir, dir_name)\n",
        "  os.mkdir(name)\n"
      ],
      "execution_count": null,
      "outputs": []
    },
    {
      "cell_type": "code",
      "source": [
        "data_dir_list = os.listdir('/content/bark-data/train')\n",
        "print(len(data_dir_list))"
      ],
      "metadata": {
        "id": "RNCZXrfDPDaP",
        "outputId": "23cea69c-af04-432b-ad12-7c93b47fddb9",
        "colab": {
          "base_uri": "https://localhost:8080/"
        }
      },
      "execution_count": null,
      "outputs": [
        {
          "output_type": "stream",
          "name": "stdout",
          "text": [
            "50\n"
          ]
        }
      ]
    },
    {
      "cell_type": "code",
      "metadata": {
        "id": "zHGl2Alq8ITZ"
      },
      "source": [
        "def split_data(SOURCE, TRAINING, VALIDATION, SPLIT_SIZE):\n",
        "    files = []\n",
        "    for filename in os.listdir(SOURCE):\n",
        "        file = SOURCE + filename\n",
        "        if os.path.getsize(file) > 0:\n",
        "            files.append(filename)\n",
        "        else:\n",
        "            print(filename + \" is zero length, so ignoring.\")\n",
        "\n",
        "    training_length = int(len(files) * SPLIT_SIZE)\n",
        "    valid_length = int(len(files) - training_length)\n",
        "    shuffled_set = random.sample(files, len(files))\n",
        "    training_set = shuffled_set[0:training_length]\n",
        "    valid_set = shuffled_set[training_length:]\n",
        "\n",
        "    for filename in training_set:\n",
        "        this_file = SOURCE + filename\n",
        "        destination = TRAINING + filename\n",
        "        copyfile(this_file, destination)\n",
        "\n",
        "    for filename in valid_set:\n",
        "        this_file = SOURCE + filename\n",
        "        destination = VALIDATION + filename\n",
        "        copyfile(this_file, destination)"
      ],
      "execution_count": null,
      "outputs": []
    },
    {
      "cell_type": "code",
      "metadata": {
        "id": "smSEhUsY8VIH"
      },
      "source": [
        "ACACIA_SOURCE_DIR = '/content/BarkVN-50/BarkVN-50_mendeley/Acacia/'\n",
        "TRAINING_ACACIA_DIR = '/content/bark-data/train/Acacia/'\n",
        "VALIDATION_ACACIA_DIR = '/content/bark-data/validation/Acacia/'\n",
        "\n",
        "ADENANTHERA_SOURCE_DIR = '/content/BarkVN-50/BarkVN-50_mendeley/Adenanthera microsperma/'\n",
        "TRAINING_ADENANTHERA_DIR = '/content/bark-data/train/Adenanthera microsperma/'\n",
        "VALIDATION_ADENANTHERA_DIR = '/content/bark-data/validation/Adenanthera microsperma/'\n",
        "\n",
        "ADENIUM_SOURCE_DIR = '/content/BarkVN-50/BarkVN-50_mendeley/Adenium species/'\n",
        "TRAINING_ADENIUM_DIR = '/content/bark-data/train/Adenium species/'\n",
        "VALIDATION_ADENIUM_DIR = '/content/bark-data/validation/Adenium species/'\n",
        "\n",
        "ANACARDIUM_SOURCE_DIR = '/content/BarkVN-50/BarkVN-50_mendeley/Anacardium occidentale/'\n",
        "TRAINING_ANACARDIUM_DIR = '/content/bark-data/train/Anacardium occidentale/'\n",
        "VALIDATION_ANACARDIUM_DIR = '/content/bark-data/validation/Anacardium occidentale/'\n",
        "\n",
        "ANNONA_SOURCE_DIR = '/content/BarkVN-50/BarkVN-50_mendeley/Annona squamosa/'\n",
        "TRAINING_ANNONA_DIR = '/content/bark-data/train/Annona squamosa/'\n",
        "VALIDATION_ANNONA_DIR = '/content/bark-data/validation/Annona squamosa/'\n",
        "\n",
        "ARTOCARPUS_SOURCE_DIR = '/content/BarkVN-50/BarkVN-50_mendeley/Artocarpus altilis/'\n",
        "TRAINING_ARTOCARPUS_DIR = '/content/bark-data/train/Artocarpus altilis/'\n",
        "VALIDATION_ARTOCARPUS_DIR = '/content/bark-data/validation/Artocarpus altilis/'\n",
        "\n",
        "ARTOCARPUS_HETRO_SOURCE_DIR = '/content/BarkVN-50/BarkVN-50_mendeley/Artocarpus heterophyllus/'\n",
        "TRAINING_ARTOCARPUS_HETRO_DIR = '/content/bark-data/train/Artocarpus heterophyllus/'\n",
        "VALIDATION_ARTOCARPUS_HETRO_DIR = '/content/bark-data/validation/Artocarpus heterophyllus/'\n",
        "\n",
        "BARRINGTONIA_SOURCE_DIR = '/content/BarkVN-50/BarkVN-50_mendeley/Barringtonia acutangula/'\n",
        "TRAINING_BARRINGTONIA_DIR = '/content/bark-data/train/Barringtonia acutangula/'\n",
        "VALIDATION_BARRINGTONIA_DIR = '/content/bark-data/validation/Barringtonia acutangula/'\n",
        "\n",
        "CANANGA_SOURCE_DIR = '/content/BarkVN-50/BarkVN-50_mendeley/Cananga odorata/'\n",
        "TRAINING_CANANGA_DIR = '/content/bark-data/train/Cananga odorata/'\n",
        "VALIDATION_CANANGA_DIR = '/content/bark-data/validation/Cananga odorata/'\n",
        "\n",
        "CARICA_SOURCE_DIR = '/content/BarkVN-50/BarkVN-50_mendeley/Carica papaya/'\n",
        "TRAINING_CARICA_DIR = '/content/bark-data/train/Carica papaya/'\n",
        "VALIDATION_CARICA_DIR = '/content/bark-data/validation/Carica papaya/'\n",
        "\n",
        "CASUARINA_SOURCE_DIR = '/content/BarkVN-50/BarkVN-50_mendeley/Casuarina equisetifolia/'\n",
        "TRAINING_CASUARINA_DIR = '/content/bark-data/train/Casuarina equisetifolia/'\n",
        "VALIDATION_CASUARINA_DIR = '/content/bark-data/validation/Casuarina equisetifolia/'\n",
        "\n",
        "CEDRUS_SOURCE_DIR = '/content/BarkVN-50/BarkVN-50_mendeley/Cedrus/'\n",
        "TRAINING_CEDRUS_DIR = '/content/bark-data/train/Cedrus/'\n",
        "VALIDATION_CEDRUS_DIR = '/content/bark-data/validation/Cedrus/'\n",
        "\n",
        "CHRYSOPHYLLUM_SOURCE_DIR = '/content/BarkVN-50/BarkVN-50_mendeley/Chrysophyllum cainino/'\n",
        "TRAINING_CHRYSOPHYLLUM_DIR = '/content/bark-data/train/Chrysophyllum cainino/'\n",
        "VALIDATION_CHRYSOPHYLLUM_DIR = '/content/bark-data/validation/Chrysophyllum cainino/'\n",
        "\n",
        "CITRUS_SOURCE_DIR = '/content/BarkVN-50/BarkVN-50_mendeley/Citrus aurantiifolia/'\n",
        "TRAINING_CITRUS_DIR = '/content/bark-data/train/Citrus aurantiifolia/'\n",
        "VALIDATION_CITRUS_DIR = '/content/bark-data/validation/Citrus aurantiifolia/'\n",
        "\n",
        "GRANDIS_SOURCE_DIR = '/content/BarkVN-50/BarkVN-50_mendeley/Citrus grandis/'\n",
        "TRAINING_GRANDIS_DIR = '/content/bark-data/train/Citrus grandis/'\n",
        "VALIDATION_GRANDIS_DIR = '/content/bark-data/validation/Citrus grandis/'\n",
        "\n",
        "COCOS_SOURCE_DIR = '/content/BarkVN-50/BarkVN-50_mendeley/Cocos nucifera/'\n",
        "TRAINING_COCOS_DIR = '/content/bark-data/train/Cocos nucifera/'\n",
        "VALIDATION_COCOS_DIR = '/content/bark-data/validation/Cocos nucifera/'\n",
        "\n",
        "DALBERGIA_SOURCE_DIR = '/content/BarkVN-50/BarkVN-50_mendeley/Dalbergia oliveri/'\n",
        "TRAINING_DALBERGIA_DIR = '/content/bark-data/train/Dalbergia oliveri/'\n",
        "VALIDATION_DALBERGIA_DIR = '/content/bark-data/validation/Dalbergia oliveri/'\n",
        "\n",
        "DELONIX_SOURCE_DIR = '/content/BarkVN-50/BarkVN-50_mendeley/Delonix regia/'\n",
        "TRAINING_DELONIX_DIR = '/content/bark-data/train/Delonix regia/'\n",
        "VALIDATION_DELONIX_DIR = '/content/bark-data/validation/Delonix regia/'\n",
        "\n",
        "DIPTEROCARPUS_SOURCE_DIR = '/content/BarkVN-50/BarkVN-50_mendeley/Dipterocarpus alatus/'\n",
        "TRAINING_DIPTEROCARPUS_DIR = '/content/bark-data/train/Dipterocarpus alatus/'\n",
        "VALIDATION_DIPTEROCARPUS_DIR = '/content/bark-data/validation/Dipterocarpus alatus/'\n",
        "\n",
        "ERYTHRINA_SOURCE_DIR = '/content/BarkVN-50/BarkVN-50_mendeley/Erythrina fusca/'\n",
        "TRAINING_ERYTHRINA_DIR = '/content/bark-data/train/Erythrina fusca/'\n",
        "VALIDATION_ERYTHRINA_DIR = '/content/bark-data/validation/Erythrina fusca/'\n",
        "\n",
        "EUCALYPTUS_SOURCE_DIR = '/content/BarkVN-50/BarkVN-50_mendeley/Eucalyptus/'\n",
        "TRAINING_EUCALYPTUS_DIR = '/content/bark-data/train/Eucalyptus/'\n",
        "VALIDATION_EUCALYPTUS_DIR = '/content/bark-data/validation/Eucalyptus/'\n",
        "\n",
        "FICUS_SOURCE_DIR = '/content/BarkVN-50/BarkVN-50_mendeley/Ficus microcarpa/'\n",
        "TRAINING_FICUS_DIR = '/content/bark-data/train/Ficus microcarpa/'\n",
        "VALIDATION_FICUS_DIR = '/content/bark-data/validation/Ficus microcarpa/'\n",
        "\n",
        "RACEMOSA_SOURCE_DIR = '/content/BarkVN-50/BarkVN-50_mendeley/Ficus racemosa/'\n",
        "TRAINING_RACEMOSA_DIR = '/content/bark-data/train/Ficus racemosa/'\n",
        "VALIDATION_RACEMOSA_DIR = '/content/bark-data/validation/Ficus racemosa/'\n",
        "\n",
        "GMELINA_SOURCE_DIR = '/content/BarkVN-50/BarkVN-50_mendeley/Gmelina arborea Roxb/'\n",
        "TRAINING_GMELINA_DIR = '/content/bark-data/train/Gmelina arborea Roxb/'\n",
        "VALIDATION_GMELINA_DIR = '/content/bark-data/validation/Gmelina arborea Roxb/'\n",
        "\n",
        "HEVEA_SOURCE_DIR = '/content/BarkVN-50/BarkVN-50_mendeley/Hevea brasiliensis/'\n",
        "TRAINING_HEVEA_DIR = '/content/bark-data/train/Hevea brasiliensis/'\n",
        "VALIDATION_HEVEA_DIR = '/content/bark-data/validation/Hevea brasiliensis/'\n",
        "\n",
        "HOPEA_SOURCE_DIR = '/content/BarkVN-50/BarkVN-50_mendeley/Hopea/'\n",
        "TRAINING_HOPEA_DIR = '/content/bark-data/train/Hopea/'\n",
        "VALIDATION_HOPEA_DIR = '/content/bark-data/validation/Hopea/'\n",
        "\n",
        "KHAYA_SOURCE_DIR = '/content/BarkVN-50/BarkVN-50_mendeley/Khaya senegalensis/'\n",
        "TRAINING_KHAYA_DIR = '/content/bark-data/train/Khaya senegalensis/'\n",
        "VALIDATION_KHAYA_DIR = '/content/bark-data/validation/Khaya senegalensis/'\n",
        "\n",
        "AJUSS_SOURCE_DIR = '/content/BarkVN-50/BarkVN-50_mendeley/Khaya senegalensis A.Juss/'\n",
        "TRAINING_AJUSS_DIR = '/content/bark-data/train/Khaya senegalensis A.Juss/'\n",
        "VALIDATION_AJUSS_DIR = '/content/bark-data/validation/Khaya senegalensis A.Juss/'\n",
        "\n",
        "LAGERSTROEMIA_SOURCE_DIR = '/content/BarkVN-50/BarkVN-50_mendeley/Lagerstroemia speciosa/'\n",
        "TRAINING_LAGERSTROEMIA_DIR = '/content/bark-data/train/Lagerstroemia speciosa/'\n",
        "VALIDATION_LAGERSTROEMIA_DIR = '/content/bark-data/validation/Lagerstroemia speciosa/'\n",
        "\n",
        "MAGNOLIA_SOURCE_DIR = '/content/BarkVN-50/BarkVN-50_mendeley/Magnolia alba/'\n",
        "TRAINING_MAGNOLIA_DIR = '/content/bark-data/train/Magnolia alba/'\n",
        "VALIDATION_MAGNOLIA_DIR = '/content/bark-data/validation/Magnolia alba/'\n",
        "\n",
        "MANGIFERA_SOURCE_DIR = '/content/BarkVN-50/BarkVN-50_mendeley/Mangifera/'\n",
        "TRAINING_MANGIFERA_DIR = '/content/bark-data/train/Mangifera/'\n",
        "VALIDATION_MANGIFERA_DIR = '/content/bark-data/validation/Mangifera/'\n",
        "\n",
        "MELALUCA_SOURCE_DIR = '/content/BarkVN-50/BarkVN-50_mendeley/Melaleuca/'\n",
        "TRAINING_MELALUCA_DIR = '/content/bark-data/train/Melaleuca/'\n",
        "VALIDATION_MELALUCA_DIR = '/content/bark-data/validation/Melaleuca/'\n",
        "\n",
        "MELIA_SOURCE_DIR = '/content/BarkVN-50/BarkVN-50_mendeley/Melia azedarach/'\n",
        "TRAINING_MELIA_DIR = '/content/bark-data/train/Melia azedarach/'\n",
        "VALIDATION_MELIA_DIR = '/content/bark-data/validation/Melia azedarach/'\n",
        "\n",
        "MUSA_SOURCE_DIR = '/content/BarkVN-50/BarkVN-50_mendeley/Musa/'\n",
        "TRAINING_MUSA_DIR = '/content/bark-data/train/Musa/'\n",
        "VALIDATION_MUSA_DIR = '/content/bark-data/validation/Musa/'\n",
        "\n",
        "NEPHELIUM_SOURCE_DIR = '/content/BarkVN-50/BarkVN-50_mendeley/Nephelium lappaceum/'\n",
        "TRAINING_NEPHELIUM_DIR = '/content/bark-data/train/Nephelium lappaceum/'\n",
        "VALIDATION_NEPHELIUM_DIR = '/content/bark-data/validation/Nephelium lappaceum/'\n",
        "\n",
        "PERSEA_SOURCE_DIR = '/content/BarkVN-50/BarkVN-50_mendeley/Persea/'\n",
        "TRAINING_PERSEA_DIR = '/content/bark-data/train/Persea/'\n",
        "VALIDATION_PERSEA_DIR = '/content/bark-data/validation/Persea/'\n",
        "\n",
        "POLY_SOURCE_DIR = '/content/BarkVN-50/BarkVN-50_mendeley/Polyalthia longifolia/'\n",
        "TRAINING_POLY_DIR = '/content/bark-data/train/Polyalthia longifolia/'\n",
        "VALIDATION_POLY_DIR = '/content/bark-data/validation/Polyalthia longifolia/'\n",
        "\n",
        "PRUNNUS_SOURCE_DIR = '/content/BarkVN-50/BarkVN-50_mendeley/Prunnus/'\n",
        "TRAINING_PRUNNUS_DIR = '/content/bark-data/train/Prunnus/'\n",
        "VALIDATION_PRUNNUS_DIR = '/content/bark-data/validation/Prunnus/'\n",
        "\n",
        "SALICINA_SOURCE_DIR = '/content/BarkVN-50/BarkVN-50_mendeley/Prunus salicina/'\n",
        "TRAINING_SALICINA_DIR = '/content/bark-data/train/Prunus salicina/'\n",
        "VALIDATION_SALICINA_DIR = '/content/bark-data/validation/Prunus salicina/'\n",
        "\n",
        "GUAJAVA_SOURCE_DIR = '/content/BarkVN-50/BarkVN-50_mendeley/Psidium guajava/'\n",
        "TRAINING_GUAJAVA_DIR = '/content/bark-data/train/Psidium guajava/'\n",
        "VALIDATION_GUAJAVA_DIR = '/content/bark-data/validation/Psidium guajava/'\n",
        "\n",
        "PETROCARPUS_SOURCE_DIR = '/content/BarkVN-50/BarkVN-50_mendeley/Pterocarpus macrocarpus/'\n",
        "TRAINING_PETROCARPUS_DIR = '/content/bark-data/train/Pterocarpus macrocarpus/'\n",
        "VALIDATION_PETROCARPUS_DIR = '/content/bark-data/validation/Pterocarpus macrocarpus/'\n",
        "\n",
        "SENNA_SOURCE_DIR = '/content/BarkVN-50/BarkVN-50_mendeley/Senna siamea/'\n",
        "TRAINING_SENNA_DIR = '/content/bark-data/train/Senna siamea/'\n",
        "VALIDATION_SENNA_DIR = '/content/bark-data/validation/Senna siamea/'\n",
        "\n",
        "SPONDIAS_SOURCE_DIR = '/content/BarkVN-50/BarkVN-50_mendeley/Spondias mombin L/'\n",
        "TRAINING_SPONDIAS_DIR = '/content/bark-data/train/Spondias mombin L/'\n",
        "VALIDATION_SPONDIAS_DIR = '/content/bark-data/validation/Spondias mombin L/'\n",
        "\n",
        "SYZYGIUM_SOURCE_DIR = '/content/BarkVN-50/BarkVN-50_mendeley/Syzygium nervosum/'\n",
        "TRAINING_SYZYGIUM_DIR = '/content/bark-data/train/Syzygium nervosum/'\n",
        "VALIDATION_SYZYGIUM_DIR = '/content/bark-data/validation/Syzygium nervosum/'\n",
        "\n",
        "TAMARINDUS_SOURCE_DIR = '/content/BarkVN-50/BarkVN-50_mendeley/Tamarindus indica/'\n",
        "TRAINING_TAMARINDUS_DIR = '/content/bark-data/train/Tamarindus indica/'\n",
        "VALIDATION_TAMARINDUS_DIR = '/content/bark-data/validation/Tamarindus indica/'\n",
        "\n",
        "TECTONA_SOURCE_DIR = '/content/BarkVN-50/BarkVN-50_mendeley/Tectona grandis/'\n",
        "TRAINING_TECTONA_DIR = '/content/bark-data/train/Tectona grandis/'\n",
        "VALIDATION_TECTONA_DIR = '/content/bark-data/validation/Tectona grandis/'\n",
        "\n",
        "TERMINALIA_SOURCE_DIR = '/content/BarkVN-50/BarkVN-50_mendeley/Terminalia catappa/'\n",
        "TRAINING_TERMINALIA_DIR = '/content/bark-data/train/Terminalia catappa/'\n",
        "VALIDATION_TERMINALIA_DIR = '/content/bark-data/validation/Terminalia catappa/'\n",
        "\n",
        "VEITCHIA_SOURCE_DIR = '/content/BarkVN-50/BarkVN-50_mendeley/Veitchia merrilli/'\n",
        "TRAINING_VEITCHIA_DIR = '/content/bark-data/train/Veitchia merrilli/'\n",
        "VALIDATION_VEITCHIA_DIR = '/content/bark-data/validation/Veitchia merrilli/'\n",
        "\n",
        "WRIGHTIA_SOURCE_DIR = '/content/BarkVN-50/BarkVN-50_mendeley/Wrightia/'\n",
        "TRAINING_WRIGHTIA_DIR = '/content/bark-data/train/Wrightia/'\n",
        "VALIDATION_WRIGHTIA_DIR = '/content/bark-data/validation/Wrightia/'\n",
        "\n",
        "RELIGIOSA_SOURCE_DIR = '/content/BarkVN-50/BarkVN-50_mendeley/Wrightia religiosa/'\n",
        "TRAINING_RELIGIOSA_DIR = '/content/bark-data/train/Wrightia religiosa/'\n",
        "VALIDATION_RELIGIOSA_DIR = '/content/bark-data/validation/Wrightia religiosa/'"
      ],
      "execution_count": null,
      "outputs": []
    },
    {
      "cell_type": "code",
      "metadata": {
        "id": "6rDzzaxS87zW"
      },
      "source": [
        "import os\n",
        "import random\n",
        "from shutil import copyfile\n",
        "\n",
        "split_size = .85\n",
        "\n",
        "split_data(ACACIA_SOURCE_DIR, TRAINING_ACACIA_DIR, VALIDATION_ACACIA_DIR, split_size)\n",
        "split_data(RELIGIOSA_SOURCE_DIR, TRAINING_RELIGIOSA_DIR, VALIDATION_RELIGIOSA_DIR, split_size)\n",
        "split_data(WRIGHTIA_SOURCE_DIR, TRAINING_WRIGHTIA_DIR, VALIDATION_WRIGHTIA_DIR, split_size)\n",
        "split_data(VEITCHIA_SOURCE_DIR, TRAINING_VEITCHIA_DIR, VALIDATION_VEITCHIA_DIR, split_size)\n",
        "split_data(TERMINALIA_SOURCE_DIR, TRAINING_TERMINALIA_DIR, VALIDATION_TERMINALIA_DIR, split_size)\n",
        "split_data(TECTONA_SOURCE_DIR, TRAINING_TECTONA_DIR, VALIDATION_TECTONA_DIR, split_size)\n",
        "split_data(TAMARINDUS_SOURCE_DIR, TRAINING_TAMARINDUS_DIR, VALIDATION_TAMARINDUS_DIR, split_size)\n",
        "split_data(SYZYGIUM_SOURCE_DIR, TRAINING_SYZYGIUM_DIR, VALIDATION_SYZYGIUM_DIR, split_size)\n",
        "split_data(SPONDIAS_SOURCE_DIR, TRAINING_SPONDIAS_DIR, VALIDATION_SPONDIAS_DIR, split_size)\n",
        "split_data(SENNA_SOURCE_DIR, TRAINING_SENNA_DIR, VALIDATION_SENNA_DIR, split_size)\n",
        "split_data(PETROCARPUS_SOURCE_DIR, TRAINING_PETROCARPUS_DIR, VALIDATION_PETROCARPUS_DIR, split_size)\n",
        "split_data(GUAJAVA_SOURCE_DIR, TRAINING_GUAJAVA_DIR, VALIDATION_GUAJAVA_DIR, split_size)\n",
        "split_data(SALICINA_SOURCE_DIR, TRAINING_SALICINA_DIR, VALIDATION_SALICINA_DIR, split_size)\n",
        "split_data(PRUNNUS_SOURCE_DIR, TRAINING_PRUNNUS_DIR, VALIDATION_PRUNNUS_DIR, split_size)\n",
        "split_data(POLY_SOURCE_DIR, TRAINING_POLY_DIR, VALIDATION_POLY_DIR, split_size)\n",
        "split_data(PERSEA_SOURCE_DIR, TRAINING_PERSEA_DIR, VALIDATION_PERSEA_DIR, split_size)\n",
        "split_data(NEPHELIUM_SOURCE_DIR, TRAINING_NEPHELIUM_DIR, VALIDATION_NEPHELIUM_DIR, split_size)\n",
        "split_data(MUSA_SOURCE_DIR, TRAINING_MUSA_DIR, VALIDATION_MUSA_DIR, split_size)\n",
        "split_data(MELIA_SOURCE_DIR, TRAINING_MELIA_DIR, VALIDATION_MELIA_DIR, split_size)\n",
        "split_data(MELALUCA_SOURCE_DIR, TRAINING_MELALUCA_DIR, VALIDATION_MELALUCA_DIR, split_size)\n",
        "split_data(MANGIFERA_SOURCE_DIR, TRAINING_MANGIFERA_DIR, VALIDATION_MANGIFERA_DIR, split_size)\n",
        "split_data(MAGNOLIA_SOURCE_DIR, TRAINING_MAGNOLIA_DIR, VALIDATION_MAGNOLIA_DIR, split_size)\n",
        "split_data(LAGERSTROEMIA_SOURCE_DIR, TRAINING_LAGERSTROEMIA_DIR, VALIDATION_LAGERSTROEMIA_DIR, split_size)\n",
        "split_data(AJUSS_SOURCE_DIR, TRAINING_AJUSS_DIR, VALIDATION_AJUSS_DIR, split_size)\n",
        "split_data(KHAYA_SOURCE_DIR, TRAINING_KHAYA_DIR, VALIDATION_KHAYA_DIR, split_size)\n",
        "split_data(HOPEA_SOURCE_DIR, TRAINING_HOPEA_DIR, VALIDATION_HOPEA_DIR, split_size)\n",
        "split_data(HEVEA_SOURCE_DIR, TRAINING_HEVEA_DIR, VALIDATION_HEVEA_DIR, split_size)\n",
        "split_data(GMELINA_SOURCE_DIR, TRAINING_GMELINA_DIR, VALIDATION_GMELINA_DIR, split_size)\n",
        "split_data(RACEMOSA_SOURCE_DIR, TRAINING_RACEMOSA_DIR, VALIDATION_RACEMOSA_DIR, split_size)\n",
        "split_data(FICUS_SOURCE_DIR, TRAINING_FICUS_DIR, VALIDATION_FICUS_DIR, split_size)\n",
        "split_data(EUCALYPTUS_SOURCE_DIR, TRAINING_EUCALYPTUS_DIR, VALIDATION_EUCALYPTUS_DIR, split_size)\n",
        "split_data(ERYTHRINA_SOURCE_DIR, TRAINING_ERYTHRINA_DIR, VALIDATION_ERYTHRINA_DIR, split_size)\n",
        "split_data(DIPTEROCARPUS_SOURCE_DIR, TRAINING_DIPTEROCARPUS_DIR, VALIDATION_DIPTEROCARPUS_DIR, split_size)\n",
        "split_data(DELONIX_SOURCE_DIR, TRAINING_DELONIX_DIR, VALIDATION_DELONIX_DIR, split_size)\n",
        "split_data(DALBERGIA_SOURCE_DIR, TRAINING_DALBERGIA_DIR, VALIDATION_DALBERGIA_DIR, split_size)\n",
        "split_data(COCOS_SOURCE_DIR, TRAINING_COCOS_DIR, VALIDATION_COCOS_DIR, split_size)\n",
        "split_data(GRANDIS_SOURCE_DIR, TRAINING_GRANDIS_DIR, VALIDATION_GRANDIS_DIR, split_size)\n",
        "split_data(CITRUS_SOURCE_DIR, TRAINING_CITRUS_DIR, VALIDATION_CITRUS_DIR, split_size)\n",
        "split_data(CHRYSOPHYLLUM_SOURCE_DIR, TRAINING_CHRYSOPHYLLUM_DIR, VALIDATION_CHRYSOPHYLLUM_DIR, split_size)\n",
        "split_data(CEDRUS_SOURCE_DIR, TRAINING_CEDRUS_DIR, VALIDATION_CEDRUS_DIR, split_size)\n",
        "split_data(CASUARINA_SOURCE_DIR, TRAINING_CASUARINA_DIR, VALIDATION_CASUARINA_DIR, split_size)\n",
        "split_data(CARICA_SOURCE_DIR, TRAINING_CARICA_DIR, VALIDATION_CARICA_DIR, split_size)\n",
        "split_data(CANANGA_SOURCE_DIR, TRAINING_CANANGA_DIR, VALIDATION_CANANGA_DIR, split_size)\n",
        "split_data(BARRINGTONIA_SOURCE_DIR, TRAINING_BARRINGTONIA_DIR, VALIDATION_BARRINGTONIA_DIR, split_size)\n",
        "split_data(ARTOCARPUS_HETRO_SOURCE_DIR, TRAINING_ARTOCARPUS_HETRO_DIR, VALIDATION_ARTOCARPUS_HETRO_DIR, split_size)\n",
        "split_data(ARTOCARPUS_SOURCE_DIR, TRAINING_ARTOCARPUS_DIR, VALIDATION_ARTOCARPUS_DIR, split_size)\n",
        "split_data(ANNONA_SOURCE_DIR, TRAINING_ANNONA_DIR, VALIDATION_ANNONA_DIR, split_size)\n",
        "split_data(ANACARDIUM_SOURCE_DIR, TRAINING_ANACARDIUM_DIR, VALIDATION_ANACARDIUM_DIR, split_size)\n",
        "split_data(ADENIUM_SOURCE_DIR, TRAINING_ADENIUM_DIR, VALIDATION_ADENIUM_DIR, split_size)\n",
        "split_data(ADENANTHERA_SOURCE_DIR, TRAINING_ADENANTHERA_DIR, VALIDATION_ADENANTHERA_DIR, split_size)\n"
      ],
      "execution_count": null,
      "outputs": []
    },
    {
      "cell_type": "code",
      "metadata": {
        "colab": {
          "base_uri": "https://localhost:8080/",
          "height": 390
        },
        "id": "xYr8YTYV9Rhe",
        "outputId": "dc4c3e8c-2abe-4057-ed5c-b6e4c667e3fc"
      },
      "source": [
        "import matplotlib.pyplot as plt\n",
        "import seaborn as sns\n",
        "from matplotlib.image import imread\n",
        "import pathlib\n",
        "\n",
        "image_folder = data_dir_list\n",
        "nimgs = {}\n",
        "for i in image_folder:\n",
        "    nimages = len(os.listdir('/content/bark-data/train/'+i+'/'))\n",
        "    nimgs[i]=nimages\n",
        "plt.figure(figsize=(9, 6))\n",
        "plt.bar(range(len(nimgs)), list(nimgs.values()), align='center')\n",
        "plt.xticks(range(len(nimgs)), list(nimgs.keys()))\n",
        "plt.title('Distribution of different classes in Training Dataset')\n",
        "plt.show()"
      ],
      "execution_count": null,
      "outputs": [
        {
          "output_type": "display_data",
          "data": {
            "text/plain": [
              "<Figure size 648x432 with 1 Axes>"
            ],
            "image/png": "[encoded data removed]"
          },
          "metadata": {
            "needs_background": "light"
          }
        }
      ]
    },
    {
      "cell_type": "code",
      "metadata": {
        "colab": {
          "base_uri": "https://localhost:8080/"
        },
        "id": "bBDBrhGP-Im1",
        "outputId": "b1978a6c-2829-44eb-9350-d2ac1e52df18"
      },
      "source": [
        "for i in data_dir_list:\n",
        "    print('Training {} images are: '.format(i)+str(len(os.listdir('/content/bark-data/train/'+i+'/'))))"
      ],
      "execution_count": null,
      "outputs": [
        {
          "output_type": "stream",
          "name": "stdout",
          "text": [
            "Training Casuarina equisetifolia images are: 82\n",
            "Training Musa images are: 112\n",
            "Training Citrus aurantiifolia images are: 91\n",
            "Training Polyalthia longifolia images are: 85\n",
            "Training Wrightia images are: 82\n",
            "Training Ficus racemosa images are: 99\n",
            "Training Erythrina fusca images are: 88\n",
            "Training Artocarpus altilis images are: 88\n",
            "Training Barringtonia acutangula images are: 86\n",
            "Training Prunus salicina images are: 89\n",
            "Training Cocos nucifera images are: 93\n",
            "Training Adenium species images are: 122\n",
            "Training Dalbergia oliveri images are: 75\n",
            "Training Khaya senegalensis A.Juss images are: 84\n",
            "Training Cananga odorata images are: 85\n",
            "Training Adenanthera microsperma images are: 68\n",
            "Training Artocarpus heterophyllus images are: 117\n",
            "Training Senna siamea images are: 79\n",
            "Training Psidium guajava images are: 103\n",
            "Training Hevea brasiliensis images are: 93\n",
            "Training Melia azedarach images are: 87\n",
            "Training Melaleuca images are: 90\n",
            "Training Chrysophyllum cainino images are: 94\n",
            "Training Tectona grandis images are: 86\n",
            "Training Cedrus images are: 79\n",
            "Training Eucalyptus images are: 107\n",
            "Training Veitchia merrilli images are: 129\n",
            "Training Persea images are: 87\n",
            "Training Khaya senegalensis images are: 80\n",
            "Training Magnolia alba images are: 78\n",
            "Training Acacia images are: 86\n",
            "Training Spondias mombin L images are: 86\n",
            "Training Terminalia catappa images are: 96\n",
            "Training Lagerstroemia speciosa images are: 81\n",
            "Training Nephelium lappaceum images are: 88\n",
            "Training Annona squamosa images are: 89\n",
            "Training Gmelina arborea Roxb images are: 87\n",
            "Training Delonix regia images are: 87\n",
            "Training Hopea images are: 77\n",
            "Training Anacardium occidentale images are: 203\n",
            "Training Dipterocarpus alatus images are: 134\n",
            "Training Citrus grandis images are: 71\n",
            "Training Syzygium nervosum images are: 92\n",
            "Training Wrightia religiosa images are: 85\n",
            "Training Ficus microcarpa images are: 127\n",
            "Training Carica papaya images are: 175\n",
            "Training Prunnus images are: 68\n",
            "Training Pterocarpus macrocarpus images are: 85\n",
            "Training Mangifera images are: 78\n",
            "Training Tamarindus indica images are: 87\n"
          ]
        }
      ]
    },
    {
      "cell_type": "code",
      "metadata": {
        "colab": {
          "base_uri": "https://localhost:8080/",
          "height": 390
        },
        "id": "6qo1Plu1-P1w",
        "outputId": "0fdd822a-8dbe-4636-da77-116ec5e9fe47"
      },
      "source": [
        "image_folder = data_dir_list\n",
        "nimgs = {}\n",
        "for i in image_folder:\n",
        "    nimages = len(os.listdir('/content/bark-data/validation/'+i+'/'))\n",
        "    nimgs[i]=nimages\n",
        "plt.figure(figsize=(9, 6))\n",
        "plt.bar(range(len(nimgs)), list(nimgs.values()), align='center')\n",
        "plt.xticks(range(len(nimgs)), list(nimgs.keys()))\n",
        "plt.title('Distribution of different classes in Validation Dataset')\n",
        "plt.show()"
      ],
      "execution_count": null,
      "outputs": [
        {
          "output_type": "display_data",
          "data": {
            "text/plain": [
              "<Figure size 648x432 with 1 Axes>"
            ],
            "image/png": "[encoded data removed]"
          },
          "metadata": {
            "needs_background": "light"
          }
        }
      ]
    },
    {
      "cell_type": "code",
      "metadata": {
        "colab": {
          "base_uri": "https://localhost:8080/"
        },
        "id": "LWdNEpsI-z2n",
        "outputId": "0d6be79c-f1d0-422a-9918-a6b11222d4a4"
      },
      "source": [
        "for i in data_dir_list:\n",
        "    print('Valid {} images are: '.format(i)+str(len(os.listdir('/content/bark-data/validation/'+i+'/'))))"
      ],
      "execution_count": null,
      "outputs": [
        {
          "output_type": "stream",
          "name": "stdout",
          "text": [
            "Valid Casuarina equisetifolia images are: 15\n",
            "Valid Musa images are: 20\n",
            "Valid Citrus aurantiifolia images are: 17\n",
            "Valid Polyalthia longifolia images are: 15\n",
            "Valid Wrightia images are: 15\n",
            "Valid Ficus racemosa images are: 18\n",
            "Valid Erythrina fusca images are: 16\n",
            "Valid Artocarpus altilis images are: 16\n",
            "Valid Barringtonia acutangula images are: 16\n",
            "Valid Prunus salicina images are: 16\n",
            "Valid Cocos nucifera images are: 17\n",
            "Valid Adenium species images are: 22\n",
            "Valid Dalbergia oliveri images are: 14\n",
            "Valid Khaya senegalensis A.Juss images are: 15\n",
            "Valid Cananga odorata images are: 16\n",
            "Valid Adenanthera microsperma images are: 12\n",
            "Valid Artocarpus heterophyllus images are: 21\n",
            "Valid Senna siamea images are: 14\n",
            "Valid Psidium guajava images are: 19\n",
            "Valid Hevea brasiliensis images are: 17\n",
            "Valid Melia azedarach images are: 16\n",
            "Valid Melaleuca images are: 17\n",
            "Valid Chrysophyllum cainino images are: 17\n",
            "Valid Tectona grandis images are: 16\n",
            "Valid Cedrus images are: 14\n",
            "Valid Eucalyptus images are: 20\n",
            "Valid Veitchia merrilli images are: 23\n",
            "Valid Persea images are: 16\n",
            "Valid Khaya senegalensis images are: 15\n",
            "Valid Magnolia alba images are: 14\n",
            "Valid Acacia images are: 16\n",
            "Valid Spondias mombin L images are: 16\n",
            "Valid Terminalia catappa images are: 17\n",
            "Valid Lagerstroemia speciosa images are: 15\n",
            "Valid Nephelium lappaceum images are: 16\n",
            "Valid Annona squamosa images are: 16\n",
            "Valid Gmelina arborea Roxb images are: 16\n",
            "Valid Delonix regia images are: 16\n",
            "Valid Hopea images are: 14\n",
            "Valid Anacardium occidentale images are: 36\n",
            "Valid Dipterocarpus alatus images are: 24\n",
            "Valid Citrus grandis images are: 13\n",
            "Valid Syzygium nervosum images are: 17\n",
            "Valid Wrightia religiosa images are: 15\n",
            "Valid Ficus microcarpa images are: 23\n",
            "Valid Carica papaya images are: 32\n",
            "Valid Prunnus images are: 12\n",
            "Valid Pterocarpus macrocarpus images are: 15\n",
            "Valid Mangifera images are: 14\n",
            "Valid Tamarindus indica images are: 16\n"
          ]
        }
      ]
    },
    {
      "cell_type": "markdown",
      "metadata": {
        "id": "dVBaGt0B_Nmi"
      },
      "source": [
        "## Step 3. Deep Learning with Data Augumentation "
      ]
    },
    {
      "cell_type": "code",
      "metadata": {
        "id": "KhZJ_xdd_VhG"
      },
      "source": [
        "from tensorflow.keras.optimizers import Adam\n",
        "from tensorflow.keras.preprocessing.image import ImageDataGenerator\n",
        "from tensorflow.keras.layers import Conv2D, MaxPooling2D, Flatten, Dense, Dropout\n",
        "from tensorflow.keras.models import Sequential\n",
        "from tensorflow.keras.callbacks import EarlyStopping, ModelCheckpoint"
      ],
      "execution_count": null,
      "outputs": []
    },
    {
      "cell_type": "code",
      "metadata": {
        "id": "w9fhSZNu_all"
      },
      "source": [
        "img_width=256; img_height=256\n",
        "batch_size=16"
      ],
      "execution_count": null,
      "outputs": []
    },
    {
      "cell_type": "code",
      "metadata": {
        "id": "FMspbg4L_dTG",
        "outputId": "304f5f58-5a23-4e74-8364-16ede5ea0ea3",
        "colab": {
          "base_uri": "https://localhost:8080/"
        }
      },
      "source": [
        "TRAINING_DIR = '/content/bark-data/train/'\n",
        "\n",
        "train_datagen = ImageDataGenerator(rescale = 1/255.0,\n",
        "                                   rotation_range=30,\n",
        "                                   zoom_range=0.4,\n",
        "                                   horizontal_flip=True)\n",
        "\n",
        "train_generator = train_datagen.flow_from_directory(TRAINING_DIR,\n",
        "                                                    batch_size=batch_size,\n",
        "                                                    class_mode='categorical',\n",
        "                                                    target_size=(img_height, img_width))"
      ],
      "execution_count": null,
      "outputs": [
        {
          "output_type": "stream",
          "name": "stdout",
          "text": [
            "Found 4720 images belonging to 50 classes.\n"
          ]
        }
      ]
    },
    {
      "cell_type": "code",
      "metadata": {
        "colab": {
          "base_uri": "https://localhost:8080/"
        },
        "id": "3hW3KjQz_rXi",
        "outputId": "3f6f40cd-7731-4728-daa7-423984b3f978"
      },
      "source": [
        "VALIDATION_DIR = '/content/bark-data/validation/'\n",
        "\n",
        "validation_datagen = ImageDataGenerator(rescale = 1/255.0)\n",
        "\n",
        "validation_generator = validation_datagen.flow_from_directory(VALIDATION_DIR,\n",
        "                                                              batch_size=batch_size,\n",
        "                                                              class_mode='categorical',\n",
        "                                                              target_size=(img_height, img_width)\n",
        "                                                             )"
      ],
      "execution_count": null,
      "outputs": [
        {
          "output_type": "stream",
          "name": "stdout",
          "text": [
            "Found 858 images belonging to 50 classes.\n"
          ]
        }
      ]
    },
    {
      "cell_type": "code",
      "metadata": {
        "id": "STMUpcmZ__no"
      },
      "source": [
        "callbacks = EarlyStopping(monitor='val_loss', patience=5, verbose=1, mode='auto')\n",
        "# autosave best Model\n",
        "best_model_file = '/content/CNN_aug_best_weights.h5'\n",
        "best_model = ModelCheckpoint(best_model_file, monitor='val_acc', verbose = 1, save_best_only = True)"
      ],
      "execution_count": null,
      "outputs": []
    },
    {
      "cell_type": "code",
      "metadata": {
        "colab": {
          "base_uri": "https://localhost:8080/"
        },
        "id": "yCfDkX9gAS6E",
        "outputId": "31778f9b-fe62-44c9-a46d-7ceab4adbbb2"
      },
      "source": [
        "model = Sequential([\n",
        "    Conv2D(16, (3, 3), activation='relu', input_shape=(img_height, img_width, 3)), MaxPooling2D(2, 2),\n",
        "    Conv2D(32, (3, 3), activation='relu'), MaxPooling2D(2, 2),\n",
        "    Conv2D(64, (3, 3), activation='relu'),\n",
        "    Conv2D(64, (3, 3), activation='relu'),\n",
        "    MaxPooling2D(2, 2),\n",
        "    Conv2D(128, (3, 3), activation='relu'),\n",
        "    Conv2D(128, (3, 3), activation='relu'),\n",
        "    MaxPooling2D(2, 2),\n",
        "    Conv2D(256, (3, 3), activation='relu'),\n",
        "    Conv2D(256, (3, 3), activation='relu'),\n",
        "    Conv2D(256, (3, 3), activation='relu'),\n",
        "    MaxPooling2D(2, 2),\n",
        "    Flatten(),\n",
        "    Dense(512, activation='relu'),\n",
        "    Dense(512, activation='relu'),\n",
        "    Dense(50, activation='softmax')\n",
        "])\n",
        "model.summary()"
      ],
      "execution_count": null,
      "outputs": [
        {
          "output_type": "stream",
          "name": "stdout",
          "text": [
            "Model: \"sequential\"\n",
            "_________________________________________________________________\n",
            " Layer (type)                Output Shape              Param #   \n",
            "=================================================================\n",
            " conv2d (Conv2D)             (None, 254, 254, 16)      448       \n",
            "                                                                 \n",
            " max_pooling2d (MaxPooling2D  (None, 127, 127, 16)     0         \n",
            " )                                                               \n",
            "                                                                 \n",
            " conv2d_1 (Conv2D)           (None, 125, 125, 32)      4640      \n",
            "                                                                 \n",
            " max_pooling2d_1 (MaxPooling  (None, 62, 62, 32)       0         \n",
            " 2D)                                                             \n",
            "                                                                 \n",
            " conv2d_2 (Conv2D)           (None, 60, 60, 64)        18496     \n",
            "                                                                 \n",
            " conv2d_3 (Conv2D)           (None, 58, 58, 64)        36928     \n",
            "                                                                 \n",
            " max_pooling2d_2 (MaxPooling  (None, 29, 29, 64)       0         \n",
            " 2D)                                                             \n",
            "                                                                 \n",
            " conv2d_4 (Conv2D)           (None, 27, 27, 128)       73856     \n",
            "                                                                 \n",
            " conv2d_5 (Conv2D)           (None, 25, 25, 128)       147584    \n",
            "                                                                 \n",
            " max_pooling2d_3 (MaxPooling  (None, 12, 12, 128)      0         \n",
            " 2D)                                                             \n",
            "                                                                 \n",
            " conv2d_6 (Conv2D)           (None, 10, 10, 256)       295168    \n",
            "                                                                 \n",
            " conv2d_7 (Conv2D)           (None, 8, 8, 256)         590080    \n",
            "                                                                 \n",
            " conv2d_8 (Conv2D)           (None, 6, 6, 256)         590080    \n",
            "                                                                 \n",
            " max_pooling2d_4 (MaxPooling  (None, 3, 3, 256)        0         \n",
            " 2D)                                                             \n",
            "                                                                 \n",
            " flatten (Flatten)           (None, 2304)              0         \n",
            "                                                                 \n",
            " dense (Dense)               (None, 512)               1180160   \n",
            "                                                                 \n",
            " dense_1 (Dense)             (None, 512)               262656    \n",
            "                                                                 \n",
            " dense_2 (Dense)             (None, 50)                25650     \n",
            "                                                                 \n",
            "=================================================================\n",
            "Total params: 3,225,746\n",
            "Trainable params: 3,225,746\n",
            "Non-trainable params: 0\n",
            "_________________________________________________________________\n"
          ]
        }
      ]
    },
    {
      "cell_type": "code",
      "metadata": {
        "id": "9wAtEeklAf8n"
      },
      "source": [
        "model.compile(optimizer='Adam', \n",
        "              loss='categorical_crossentropy', \n",
        "              metrics =['accuracy'])"
      ],
      "execution_count": null,
      "outputs": []
    },
    {
      "cell_type": "code",
      "metadata": {
        "colab": {
          "base_uri": "https://localhost:8080/"
        },
        "id": "_Vn4LOhM__qg",
        "outputId": "c8fbdf07-7878-4c32-9844-64a991dcdba6"
      },
      "source": [
        "history = model.fit_generator(train_generator,\n",
        "                              epochs=30,\n",
        "                              verbose=1,\n",
        "                              validation_data=validation_generator,\n",
        "                              callbacks = [best_model]\n",
        "                              )"
      ],
      "execution_count": null,
      "outputs": [
        {
          "output_type": "stream",
          "name": "stdout",
          "text": [
            "Epoch 1/30\n",
            "295/295 [==============================] - ETA: 0s - loss: 3.9030 - accuracy: 0.0411"
          ]
        },
        {
          "output_type": "stream",
          "name": "stderr",
          "text": [
            "WARNING:tensorflow:Can save best model only with val_acc available, skipping.\n"
          ]
        },
        {
          "output_type": "stream",
          "name": "stdout",
          "text": [
            "\b\b\b\b\b\b\b\b\b\b\b\b\b\b\b\b\b\b\b\b\b\b\b\b\b\b\b\b\b\b\b\b\b\b\b\b\b\b\b\b\b\b\b\b\b\b\b\b\b\b\b\b\b\b\b\b\b\b\b\b\b\b\b\b\b\b\b\b\b\b\b\b\b\b\b\b\b\b\b\b\b\b\b\b\r295/295 [==============================] - 598s 2s/step - loss: 3.9030 - accuracy: 0.0411 - val_loss: 3.8872 - val_accuracy: 0.0420\n",
            "Epoch 2/30\n",
            "295/295 [==============================] - ETA: 0s - loss: 3.8919 - accuracy: 0.0430"
          ]
        },
        {
          "output_type": "stream",
          "name": "stderr",
          "text": [
            "WARNING:tensorflow:Can save best model only with val_acc available, skipping.\n"
          ]
        },
        {
          "output_type": "stream",
          "name": "stdout",
          "text": [
            "\b\b\b\b\b\b\b\b\b\b\b\b\b\b\b\b\b\b\b\b\b\b\b\b\b\b\b\b\b\b\b\b\b\b\b\b\b\b\b\b\b\b\b\b\b\b\b\b\b\b\b\b\b\b\b\b\b\b\b\b\b\b\b\b\b\b\b\b\b\b\b\b\b\b\b\b\b\b\b\b\b\b\b\b\r295/295 [==============================] - 589s 2s/step - loss: 3.8919 - accuracy: 0.0430 - val_loss: 3.8859 - val_accuracy: 0.0420\n",
            "Epoch 3/30\n",
            "295/295 [==============================] - ETA: 0s - loss: 3.8895 - accuracy: 0.0424"
          ]
        },
        {
          "output_type": "stream",
          "name": "stderr",
          "text": [
            "WARNING:tensorflow:Can save best model only with val_acc available, skipping.\n"
          ]
        },
        {
          "output_type": "stream",
          "name": "stdout",
          "text": [
            "\b\b\b\b\b\b\b\b\b\b\b\b\b\b\b\b\b\b\b\b\b\b\b\b\b\b\b\b\b\b\b\b\b\b\b\b\b\b\b\b\b\b\b\b\b\b\b\b\b\b\b\b\b\b\b\b\b\b\b\b\b\b\b\b\b\b\b\b\b\b\b\b\b\b\b\b\b\b\b\b\b\b\b\b\r295/295 [==============================] - 591s 2s/step - loss: 3.8895 - accuracy: 0.0424 - val_loss: 3.8852 - val_accuracy: 0.0420\n",
            "Epoch 4/30\n",
            "295/295 [==============================] - ETA: 0s - loss: 3.8888 - accuracy: 0.0430"
          ]
        },
        {
          "output_type": "stream",
          "name": "stderr",
          "text": [
            "WARNING:tensorflow:Can save best model only with val_acc available, skipping.\n"
          ]
        },
        {
          "output_type": "stream",
          "name": "stdout",
          "text": [
            "\b\b\b\b\b\b\b\b\b\b\b\b\b\b\b\b\b\b\b\b\b\b\b\b\b\b\b\b\b\b\b\b\b\b\b\b\b\b\b\b\b\b\b\b\b\b\b\b\b\b\b\b\b\b\b\b\b\b\b\b\b\b\b\b\b\b\b\b\b\b\b\b\b\b\b\b\b\b\b\b\b\b\b\b\r295/295 [==============================] - 591s 2s/step - loss: 3.8888 - accuracy: 0.0430 - val_loss: 3.8856 - val_accuracy: 0.0420\n",
            "Epoch 5/30\n",
            "295/295 [==============================] - ETA: 0s - loss: 3.8885 - accuracy: 0.0430"
          ]
        },
        {
          "output_type": "stream",
          "name": "stderr",
          "text": [
            "WARNING:tensorflow:Can save best model only with val_acc available, skipping.\n"
          ]
        },
        {
          "output_type": "stream",
          "name": "stdout",
          "text": [
            "\b\b\b\b\b\b\b\b\b\b\b\b\b\b\b\b\b\b\b\b\b\b\b\b\b\b\b\b\b\b\b\b\b\b\b\b\b\b\b\b\b\b\b\b\b\b\b\b\b\b\b\b\b\b\b\b\b\b\b\b\b\b\b\b\b\b\b\b\b\b\b\b\b\b\b\b\b\b\b\b\b\b\b\b\r295/295 [==============================] - 589s 2s/step - loss: 3.8885 - accuracy: 0.0430 - val_loss: 3.8851 - val_accuracy: 0.0420\n",
            "Epoch 6/30\n",
            "295/295 [==============================] - ETA: 0s - loss: 3.8876 - accuracy: 0.0430"
          ]
        },
        {
          "output_type": "stream",
          "name": "stderr",
          "text": [
            "WARNING:tensorflow:Can save best model only with val_acc available, skipping.\n"
          ]
        },
        {
          "output_type": "stream",
          "name": "stdout",
          "text": [
            "\b\b\b\b\b\b\b\b\b\b\b\b\b\b\b\b\b\b\b\b\b\b\b\b\b\b\b\b\b\b\b\b\b\b\b\b\b\b\b\b\b\b\b\b\b\b\b\b\b\b\b\b\b\b\b\b\b\b\b\b\b\b\b\b\b\b\b\b\b\b\b\b\b\b\b\b\b\b\b\b\b\b\b\b\r295/295 [==============================] - 595s 2s/step - loss: 3.8876 - accuracy: 0.0430 - val_loss: 3.8856 - val_accuracy: 0.0420\n",
            "Epoch 7/30\n",
            "295/295 [==============================] - ETA: 0s - loss: 3.8878 - accuracy: 0.0430"
          ]
        },
        {
          "output_type": "stream",
          "name": "stderr",
          "text": [
            "WARNING:tensorflow:Can save best model only with val_acc available, skipping.\n"
          ]
        },
        {
          "output_type": "stream",
          "name": "stdout",
          "text": [
            "\b\b\b\b\b\b\b\b\b\b\b\b\b\b\b\b\b\b\b\b\b\b\b\b\b\b\b\b\b\b\b\b\b\b\b\b\b\b\b\b\b\b\b\b\b\b\b\b\b\b\b\b\b\b\b\b\b\b\b\b\b\b\b\b\b\b\b\b\b\b\b\b\b\b\b\b\b\b\b\b\b\b\b\b\r295/295 [==============================] - 587s 2s/step - loss: 3.8878 - accuracy: 0.0430 - val_loss: 3.8852 - val_accuracy: 0.0420\n",
            "Epoch 8/30\n",
            "295/295 [==============================] - ETA: 0s - loss: 3.8874 - accuracy: 0.0430"
          ]
        },
        {
          "output_type": "stream",
          "name": "stderr",
          "text": [
            "WARNING:tensorflow:Can save best model only with val_acc available, skipping.\n"
          ]
        },
        {
          "output_type": "stream",
          "name": "stdout",
          "text": [
            "\b\b\b\b\b\b\b\b\b\b\b\b\b\b\b\b\b\b\b\b\b\b\b\b\b\b\b\b\b\b\b\b\b\b\b\b\b\b\b\b\b\b\b\b\b\b\b\b\b\b\b\b\b\b\b\b\b\b\b\b\b\b\b\b\b\b\b\b\b\b\b\b\b\b\b\b\b\b\b\b\b\b\b\b\r295/295 [==============================] - 587s 2s/step - loss: 3.8874 - accuracy: 0.0430 - val_loss: 3.8850 - val_accuracy: 0.0420\n",
            "Epoch 9/30\n",
            "295/295 [==============================] - ETA: 0s - loss: 3.8875 - accuracy: 0.0430"
          ]
        },
        {
          "output_type": "stream",
          "name": "stderr",
          "text": [
            "WARNING:tensorflow:Can save best model only with val_acc available, skipping.\n"
          ]
        },
        {
          "output_type": "stream",
          "name": "stdout",
          "text": [
            "\b\b\b\b\b\b\b\b\b\b\b\b\b\b\b\b\b\b\b\b\b\b\b\b\b\b\b\b\b\b\b\b\b\b\b\b\b\b\b\b\b\b\b\b\b\b\b\b\b\b\b\b\b\b\b\b\b\b\b\b\b\b\b\b\b\b\b\b\b\b\b\b\b\b\b\b\b\b\b\b\b\b\b\b\r295/295 [==============================] - 591s 2s/step - loss: 3.8875 - accuracy: 0.0430 - val_loss: 3.8851 - val_accuracy: 0.0420\n",
            "Epoch 10/30\n",
            "295/295 [==============================] - ETA: 0s - loss: 3.8872 - accuracy: 0.0430"
          ]
        },
        {
          "output_type": "stream",
          "name": "stderr",
          "text": [
            "WARNING:tensorflow:Can save best model only with val_acc available, skipping.\n"
          ]
        },
        {
          "output_type": "stream",
          "name": "stdout",
          "text": [
            "\b\b\b\b\b\b\b\b\b\b\b\b\b\b\b\b\b\b\b\b\b\b\b\b\b\b\b\b\b\b\b\b\b\b\b\b\b\b\b\b\b\b\b\b\b\b\b\b\b\b\b\b\b\b\b\b\b\b\b\b\b\b\b\b\b\b\b\b\b\b\b\b\b\b\b\b\b\b\b\b\b\b\b\b\r295/295 [==============================] - 583s 2s/step - loss: 3.8872 - accuracy: 0.0430 - val_loss: 3.8851 - val_accuracy: 0.0420\n",
            "Epoch 11/30\n",
            "295/295 [==============================] - ETA: 0s - loss: 3.8872 - accuracy: 0.0430"
          ]
        },
        {
          "output_type": "stream",
          "name": "stderr",
          "text": [
            "WARNING:tensorflow:Can save best model only with val_acc available, skipping.\n"
          ]
        },
        {
          "output_type": "stream",
          "name": "stdout",
          "text": [
            "\b\b\b\b\b\b\b\b\b\b\b\b\b\b\b\b\b\b\b\b\b\b\b\b\b\b\b\b\b\b\b\b\b\b\b\b\b\b\b\b\b\b\b\b\b\b\b\b\b\b\b\b\b\b\b\b\b\b\b\b\b\b\b\b\b\b\b\b\b\b\b\b\b\b\b\b\b\b\b\b\b\b\b\b\r295/295 [==============================] - 584s 2s/step - loss: 3.8872 - accuracy: 0.0430 - val_loss: 3.8856 - val_accuracy: 0.0420\n",
            "Epoch 12/30\n",
            "295/295 [==============================] - ETA: 0s - loss: 3.8870 - accuracy: 0.0430"
          ]
        },
        {
          "output_type": "stream",
          "name": "stderr",
          "text": [
            "WARNING:tensorflow:Can save best model only with val_acc available, skipping.\n"
          ]
        },
        {
          "output_type": "stream",
          "name": "stdout",
          "text": [
            "\b\b\b\b\b\b\b\b\b\b\b\b\b\b\b\b\b\b\b\b\b\b\b\b\b\b\b\b\b\b\b\b\b\b\b\b\b\b\b\b\b\b\b\b\b\b\b\b\b\b\b\b\b\b\b\b\b\b\b\b\b\b\b\b\b\b\b\b\b\b\b\b\b\b\b\b\b\b\b\b\b\b\b\b\r295/295 [==============================] - 584s 2s/step - loss: 3.8870 - accuracy: 0.0430 - val_loss: 3.8850 - val_accuracy: 0.0420\n",
            "Epoch 13/30\n",
            "295/295 [==============================] - ETA: 0s - loss: 3.8868 - accuracy: 0.0430"
          ]
        },
        {
          "output_type": "stream",
          "name": "stderr",
          "text": [
            "WARNING:tensorflow:Can save best model only with val_acc available, skipping.\n"
          ]
        },
        {
          "output_type": "stream",
          "name": "stdout",
          "text": [
            "\b\b\b\b\b\b\b\b\b\b\b\b\b\b\b\b\b\b\b\b\b\b\b\b\b\b\b\b\b\b\b\b\b\b\b\b\b\b\b\b\b\b\b\b\b\b\b\b\b\b\b\b\b\b\b\b\b\b\b\b\b\b\b\b\b\b\b\b\b\b\b\b\b\b\b\b\b\b\b\b\b\b\b\b\r295/295 [==============================] - 588s 2s/step - loss: 3.8868 - accuracy: 0.0430 - val_loss: 3.8853 - val_accuracy: 0.0420\n",
            "Epoch 14/30\n",
            "295/295 [==============================] - ETA: 0s - loss: 3.8867 - accuracy: 0.0430"
          ]
        },
        {
          "output_type": "stream",
          "name": "stderr",
          "text": [
            "WARNING:tensorflow:Can save best model only with val_acc available, skipping.\n"
          ]
        },
        {
          "output_type": "stream",
          "name": "stdout",
          "text": [
            "\b\b\b\b\b\b\b\b\b\b\b\b\b\b\b\b\b\b\b\b\b\b\b\b\b\b\b\b\b\b\b\b\b\b\b\b\b\b\b\b\b\b\b\b\b\b\b\b\b\b\b\b\b\b\b\b\b\b\b\b\b\b\b\b\b\b\b\b\b\b\b\b\b\b\b\b\b\b\b\b\b\b\b\b\r295/295 [==============================] - 587s 2s/step - loss: 3.8867 - accuracy: 0.0430 - val_loss: 3.8855 - val_accuracy: 0.0420\n",
            "Epoch 15/30\n",
            "295/295 [==============================] - ETA: 0s - loss: 3.8867 - accuracy: 0.0430"
          ]
        },
        {
          "output_type": "stream",
          "name": "stderr",
          "text": [
            "WARNING:tensorflow:Can save best model only with val_acc available, skipping.\n"
          ]
        },
        {
          "output_type": "stream",
          "name": "stdout",
          "text": [
            "\b\b\b\b\b\b\b\b\b\b\b\b\b\b\b\b\b\b\b\b\b\b\b\b\b\b\b\b\b\b\b\b\b\b\b\b\b\b\b\b\b\b\b\b\b\b\b\b\b\b\b\b\b\b\b\b\b\b\b\b\b\b\b\b\b\b\b\b\b\b\b\b\b\b\b\b\b\b\b\b\b\b\b\b\r295/295 [==============================] - 585s 2s/step - loss: 3.8867 - accuracy: 0.0430 - val_loss: 3.8850 - val_accuracy: 0.0420\n",
            "Epoch 16/30\n",
            "295/295 [==============================] - ETA: 0s - loss: 3.8868 - accuracy: 0.0430"
          ]
        },
        {
          "output_type": "stream",
          "name": "stderr",
          "text": [
            "WARNING:tensorflow:Can save best model only with val_acc available, skipping.\n"
          ]
        },
        {
          "output_type": "stream",
          "name": "stdout",
          "text": [
            "\b\b\b\b\b\b\b\b\b\b\b\b\b\b\b\b\b\b\b\b\b\b\b\b\b\b\b\b\b\b\b\b\b\b\b\b\b\b\b\b\b\b\b\b\b\b\b\b\b\b\b\b\b\b\b\b\b\b\b\b\b\b\b\b\b\b\b\b\b\b\b\b\b\b\b\b\b\b\b\b\b\b\b\b\r295/295 [==============================] - 584s 2s/step - loss: 3.8868 - accuracy: 0.0430 - val_loss: 3.8851 - val_accuracy: 0.0420\n",
            "Epoch 17/30\n",
            "295/295 [==============================] - ETA: 0s - loss: 3.8864 - accuracy: 0.0430"
          ]
        },
        {
          "output_type": "stream",
          "name": "stderr",
          "text": [
            "WARNING:tensorflow:Can save best model only with val_acc available, skipping.\n"
          ]
        },
        {
          "output_type": "stream",
          "name": "stdout",
          "text": [
            "\b\b\b\b\b\b\b\b\b\b\b\b\b\b\b\b\b\b\b\b\b\b\b\b\b\b\b\b\b\b\b\b\b\b\b\b\b\b\b\b\b\b\b\b\b\b\b\b\b\b\b\b\b\b\b\b\b\b\b\b\b\b\b\b\b\b\b\b\b\b\b\b\b\b\b\b\b\b\b\b\b\b\b\b\r295/295 [==============================] - 581s 2s/step - loss: 3.8864 - accuracy: 0.0430 - val_loss: 3.8852 - val_accuracy: 0.0420\n",
            "Epoch 18/30\n",
            "295/295 [==============================] - ETA: 0s - loss: 3.8865 - accuracy: 0.0430"
          ]
        },
        {
          "output_type": "stream",
          "name": "stderr",
          "text": [
            "WARNING:tensorflow:Can save best model only with val_acc available, skipping.\n"
          ]
        },
        {
          "output_type": "stream",
          "name": "stdout",
          "text": [
            "\b\b\b\b\b\b\b\b\b\b\b\b\b\b\b\b\b\b\b\b\b\b\b\b\b\b\b\b\b\b\b\b\b\b\b\b\b\b\b\b\b\b\b\b\b\b\b\b\b\b\b\b\b\b\b\b\b\b\b\b\b\b\b\b\b\b\b\b\b\b\b\b\b\b\b\b\b\b\b\b\b\b\b\b\r295/295 [==============================] - 585s 2s/step - loss: 3.8865 - accuracy: 0.0430 - val_loss: 3.8850 - val_accuracy: 0.0420\n",
            "Epoch 19/30\n",
            "295/295 [==============================] - ETA: 0s - loss: 3.8863 - accuracy: 0.0430"
          ]
        },
        {
          "output_type": "stream",
          "name": "stderr",
          "text": [
            "WARNING:tensorflow:Can save best model only with val_acc available, skipping.\n"
          ]
        },
        {
          "output_type": "stream",
          "name": "stdout",
          "text": [
            "\b\b\b\b\b\b\b\b\b\b\b\b\b\b\b\b\b\b\b\b\b\b\b\b\b\b\b\b\b\b\b\b\b\b\b\b\b\b\b\b\b\b\b\b\b\b\b\b\b\b\b\b\b\b\b\b\b\b\b\b\b\b\b\b\b\b\b\b\b\b\b\b\b\b\b\b\b\b\b\b\b\b\b\b\r295/295 [==============================] - 585s 2s/step - loss: 3.8863 - accuracy: 0.0430 - val_loss: 3.8850 - val_accuracy: 0.0420\n",
            "Epoch 20/30\n",
            "295/295 [==============================] - ETA: 0s - loss: 3.8866 - accuracy: 0.0430"
          ]
        },
        {
          "output_type": "stream",
          "name": "stderr",
          "text": [
            "WARNING:tensorflow:Can save best model only with val_acc available, skipping.\n"
          ]
        },
        {
          "output_type": "stream",
          "name": "stdout",
          "text": [
            "\b\b\b\b\b\b\b\b\b\b\b\b\b\b\b\b\b\b\b\b\b\b\b\b\b\b\b\b\b\b\b\b\b\b\b\b\b\b\b\b\b\b\b\b\b\b\b\b\b\b\b\b\b\b\b\b\b\b\b\b\b\b\b\b\b\b\b\b\b\b\b\b\b\b\b\b\b\b\b\b\b\b\b\b\r295/295 [==============================] - 585s 2s/step - loss: 3.8866 - accuracy: 0.0430 - val_loss: 3.8850 - val_accuracy: 0.0420\n",
            "Epoch 21/30\n",
            "295/295 [==============================] - ETA: 0s - loss: 3.8864 - accuracy: 0.0430"
          ]
        },
        {
          "output_type": "stream",
          "name": "stderr",
          "text": [
            "WARNING:tensorflow:Can save best model only with val_acc available, skipping.\n"
          ]
        },
        {
          "output_type": "stream",
          "name": "stdout",
          "text": [
            "\b\b\b\b\b\b\b\b\b\b\b\b\b\b\b\b\b\b\b\b\b\b\b\b\b\b\b\b\b\b\b\b\b\b\b\b\b\b\b\b\b\b\b\b\b\b\b\b\b\b\b\b\b\b\b\b\b\b\b\b\b\b\b\b\b\b\b\b\b\b\b\b\b\b\b\b\b\b\b\b\b\b\b\b\r295/295 [==============================] - 585s 2s/step - loss: 3.8864 - accuracy: 0.0430 - val_loss: 3.8849 - val_accuracy: 0.0420\n",
            "Epoch 22/30\n",
            "295/295 [==============================] - ETA: 0s - loss: 3.8863 - accuracy: 0.0430"
          ]
        },
        {
          "output_type": "stream",
          "name": "stderr",
          "text": [
            "WARNING:tensorflow:Can save best model only with val_acc available, skipping.\n"
          ]
        },
        {
          "output_type": "stream",
          "name": "stdout",
          "text": [
            "\b\b\b\b\b\b\b\b\b\b\b\b\b\b\b\b\b\b\b\b\b\b\b\b\b\b\b\b\b\b\b\b\b\b\b\b\b\b\b\b\b\b\b\b\b\b\b\b\b\b\b\b\b\b\b\b\b\b\b\b\b\b\b\b\b\b\b\b\b\b\b\b\b\b\b\b\b\b\b\b\b\b\b\b\r295/295 [==============================] - 583s 2s/step - loss: 3.8863 - accuracy: 0.0430 - val_loss: 3.8855 - val_accuracy: 0.0420\n",
            "Epoch 23/30\n",
            "295/295 [==============================] - ETA: 0s - loss: 3.8862 - accuracy: 0.0430"
          ]
        },
        {
          "output_type": "stream",
          "name": "stderr",
          "text": [
            "WARNING:tensorflow:Can save best model only with val_acc available, skipping.\n"
          ]
        },
        {
          "output_type": "stream",
          "name": "stdout",
          "text": [
            "\b\b\b\b\b\b\b\b\b\b\b\b\b\b\b\b\b\b\b\b\b\b\b\b\b\b\b\b\b\b\b\b\b\b\b\b\b\b\b\b\b\b\b\b\b\b\b\b\b\b\b\b\b\b\b\b\b\b\b\b\b\b\b\b\b\b\b\b\b\b\b\b\b\b\b\b\b\b\b\b\b\b\b\b\r295/295 [==============================] - 582s 2s/step - loss: 3.8862 - accuracy: 0.0430 - val_loss: 3.8850 - val_accuracy: 0.0420\n",
            "Epoch 24/30\n",
            "295/295 [==============================] - ETA: 0s - loss: 3.8862 - accuracy: 0.0430"
          ]
        },
        {
          "output_type": "stream",
          "name": "stderr",
          "text": [
            "WARNING:tensorflow:Can save best model only with val_acc available, skipping.\n"
          ]
        },
        {
          "output_type": "stream",
          "name": "stdout",
          "text": [
            "\b\b\b\b\b\b\b\b\b\b\b\b\b\b\b\b\b\b\b\b\b\b\b\b\b\b\b\b\b\b\b\b\b\b\b\b\b\b\b\b\b\b\b\b\b\b\b\b\b\b\b\b\b\b\b\b\b\b\b\b\b\b\b\b\b\b\b\b\b\b\b\b\b\b\b\b\b\b\b\b\b\b\b\b\r295/295 [==============================] - 582s 2s/step - loss: 3.8862 - accuracy: 0.0430 - val_loss: 3.8849 - val_accuracy: 0.0420\n",
            "Epoch 25/30\n",
            "295/295 [==============================] - ETA: 0s - loss: 3.8862 - accuracy: 0.0430"
          ]
        },
        {
          "output_type": "stream",
          "name": "stderr",
          "text": [
            "WARNING:tensorflow:Can save best model only with val_acc available, skipping.\n"
          ]
        },
        {
          "output_type": "stream",
          "name": "stdout",
          "text": [
            "\b\b\b\b\b\b\b\b\b\b\b\b\b\b\b\b\b\b\b\b\b\b\b\b\b\b\b\b\b\b\b\b\b\b\b\b\b\b\b\b\b\b\b\b\b\b\b\b\b\b\b\b\b\b\b\b\b\b\b\b\b\b\b\b\b\b\b\b\b\b\b\b\b\b\b\b\b\b\b\b\b\b\b\b\r295/295 [==============================] - 581s 2s/step - loss: 3.8862 - accuracy: 0.0430 - val_loss: 3.8851 - val_accuracy: 0.0420\n",
            "Epoch 26/30\n",
            "295/295 [==============================] - ETA: 0s - loss: 3.8862 - accuracy: 0.0430"
          ]
        },
        {
          "output_type": "stream",
          "name": "stderr",
          "text": [
            "WARNING:tensorflow:Can save best model only with val_acc available, skipping.\n"
          ]
        },
        {
          "output_type": "stream",
          "name": "stdout",
          "text": [
            "\b\b\b\b\b\b\b\b\b\b\b\b\b\b\b\b\b\b\b\b\b\b\b\b\b\b\b\b\b\b\b\b\b\b\b\b\b\b\b\b\b\b\b\b\b\b\b\b\b\b\b\b\b\b\b\b\b\b\b\b\b\b\b\b\b\b\b\b\b\b\b\b\b\b\b\b\b\b\b\b\b\b\b\b\r295/295 [==============================] - 587s 2s/step - loss: 3.8862 - accuracy: 0.0430 - val_loss: 3.8849 - val_accuracy: 0.0420\n",
            "Epoch 27/30\n",
            "295/295 [==============================] - ETA: 0s - loss: 3.8862 - accuracy: 0.0430"
          ]
        },
        {
          "output_type": "stream",
          "name": "stderr",
          "text": [
            "WARNING:tensorflow:Can save best model only with val_acc available, skipping.\n"
          ]
        },
        {
          "output_type": "stream",
          "name": "stdout",
          "text": [
            "\b\b\b\b\b\b\b\b\b\b\b\b\b\b\b\b\b\b\b\b\b\b\b\b\b\b\b\b\b\b\b\b\b\b\b\b\b\b\b\b\b\b\b\b\b\b\b\b\b\b\b\b\b\b\b\b\b\b\b\b\b\b\b\b\b\b\b\b\b\b\b\b\b\b\b\b\b\b\b\b\b\b\b\b\r295/295 [==============================] - 583s 2s/step - loss: 3.8862 - accuracy: 0.0430 - val_loss: 3.8850 - val_accuracy: 0.0420\n",
            "Epoch 28/30\n",
            "295/295 [==============================] - ETA: 0s - loss: 3.8860 - accuracy: 0.0430"
          ]
        },
        {
          "output_type": "stream",
          "name": "stderr",
          "text": [
            "WARNING:tensorflow:Can save best model only with val_acc available, skipping.\n"
          ]
        },
        {
          "output_type": "stream",
          "name": "stdout",
          "text": [
            "\b\b\b\b\b\b\b\b\b\b\b\b\b\b\b\b\b\b\b\b\b\b\b\b\b\b\b\b\b\b\b\b\b\b\b\b\b\b\b\b\b\b\b\b\b\b\b\b\b\b\b\b\b\b\b\b\b\b\b\b\b\b\b\b\b\b\b\b\b\b\b\b\b\b\b\b\b\b\b\b\b\b\b\b\r295/295 [==============================] - 585s 2s/step - loss: 3.8860 - accuracy: 0.0430 - val_loss: 3.8851 - val_accuracy: 0.0420\n",
            "Epoch 29/30\n",
            "295/295 [==============================] - ETA: 0s - loss: 3.8863 - accuracy: 0.0430"
          ]
        },
        {
          "output_type": "stream",
          "name": "stderr",
          "text": [
            "WARNING:tensorflow:Can save best model only with val_acc available, skipping.\n"
          ]
        },
        {
          "output_type": "stream",
          "name": "stdout",
          "text": [
            "\b\b\b\b\b\b\b\b\b\b\b\b\b\b\b\b\b\b\b\b\b\b\b\b\b\b\b\b\b\b\b\b\b\b\b\b\b\b\b\b\b\b\b\b\b\b\b\b\b\b\b\b\b\b\b\b\b\b\b\b\b\b\b\b\b\b\b\b\b\b\b\b\b\b\b\b\b\b\b\b\b\b\b\b\r295/295 [==============================] - 587s 2s/step - loss: 3.8863 - accuracy: 0.0430 - val_loss: 3.8849 - val_accuracy: 0.0420\n",
            "Epoch 30/30\n",
            "295/295 [==============================] - ETA: 0s - loss: 3.8860 - accuracy: 0.0430"
          ]
        },
        {
          "output_type": "stream",
          "name": "stderr",
          "text": [
            "WARNING:tensorflow:Can save best model only with val_acc available, skipping.\n"
          ]
        },
        {
          "output_type": "stream",
          "name": "stdout",
          "text": [
            "\b\b\b\b\b\b\b\b\b\b\b\b\b\b\b\b\b\b\b\b\b\b\b\b\b\b\b\b\b\b\b\b\b\b\b\b\b\b\b\b\b\b\b\b\b\b\b\b\b\b\b\b\b\b\b\b\b\b\b\b\b\b\b\b\b\b\b\b\b\b\b\b\b\b\b\b\b\b\b\b\b\b\b\b\r295/295 [==============================] - 587s 2s/step - loss: 3.8860 - accuracy: 0.0430 - val_loss: 3.8850 - val_accuracy: 0.0420\n"
          ]
        }
      ]
    },
    {
      "cell_type": "code",
      "metadata": {
        "colab": {
          "base_uri": "https://localhost:8080/",
          "height": 458
        },
        "id": "fbeBi1UeGJkb",
        "outputId": "5f3522b3-a83c-4af8-a2f2-123a5aea74d4"
      },
      "source": [
        "acc=history.history['accuracy']\n",
        "val_acc=history.history['val_accuracy']\n",
        "loss=history.history['loss']\n",
        "val_loss=history.history['val_loss']\n",
        "\n",
        "epochs=range(len(acc))\n",
        "\n",
        "fig = plt.figure(figsize=(14,7))\n",
        "plt.plot(epochs, acc, 'r', label=\"Training Accuracy\")\n",
        "plt.plot(epochs, val_acc, 'b', label=\"Validation Accuracy\")\n",
        "plt.xlabel('Epoch')\n",
        "plt.ylabel('Accuracy')\n",
        "plt.title('Training and validation accuracy')\n",
        "plt.legend(loc='lower right')\n",
        "plt.show()"
      ],
      "execution_count": null,
      "outputs": [
        {
          "output_type": "display_data",
          "data": {
            "text/plain": [
              "<Figure size 1008x504 with 1 Axes>"
            ],
            "image/png": "[encoded data removed]"
          },
          "metadata": {
            "needs_background": "light"
          }
        }
      ]
    },
    {
      "cell_type": "code",
      "metadata": {
        "colab": {
          "base_uri": "https://localhost:8080/",
          "height": 476
        },
        "id": "YQypRwoyGZ83",
        "outputId": "4cc7969d-a34a-49e9-f397-de93c61a57f1"
      },
      "source": [
        "fig2 = plt.figure(figsize=(14,7))\n",
        "plt.plot(epochs, loss, 'r', label=\"Training Loss\")\n",
        "plt.plot(epochs, val_loss, 'b', label=\"Validation Loss\")\n",
        "plt.legend(loc='upper right')\n",
        "plt.xlabel('Epoch')\n",
        "plt.ylabel('Loss')\n",
        "plt.title('Training and validation loss')"
      ],
      "execution_count": null,
      "outputs": [
        {
          "output_type": "execute_result",
          "data": {
            "text/plain": [
              "Text(0.5, 1.0, 'Training and validation loss')"
            ]
          },
          "metadata": {},
          "execution_count": 28
        },
        {
          "output_type": "display_data",
          "data": {
            "text/plain": [
              "<Figure size 1008x504 with 1 Axes>"
            ],
            "image/png": "[encoded data removed]"
          },
          "metadata": {
            "needs_background": "light"
          }
        }
      ]
    },
    {
      "cell_type": "code",
      "metadata": {
        "id": "dF3IdyGgj9jU"
      },
      "source": [
        "## Test Performance on Test Data\n",
        "import pandas as pd\n",
        "import numpy as np\n",
        "from keras.preprocessing.image import load_img, img_to_array\n",
        "\n",
        "def preprocess_image(path):\n",
        "    img = load_img(path, target_size = (img_height, img_width))\n",
        "    a = img_to_array(img)\n",
        "    a = np.expand_dims(a, axis = 0)\n",
        "    a /= 255.\n",
        "    return a"
      ],
      "execution_count": null,
      "outputs": []
    },
    {
      "cell_type": "markdown",
      "metadata": {
        "id": "Oq8b8D0MivhP"
      },
      "source": [
        "## Step 4. Checking performance on Test Data (Out of the sample)"
      ]
    },
    {
      "cell_type": "code",
      "metadata": {
        "id": "mJjXnnVpkHPJ"
      },
      "source": [
        "# Read Test Images Dir and their labels\n",
        "test_images_dir = '/content/dataset/test/'\n",
        "test_df = pd.read_csv('/content/dataset/test.csv')\n",
        "\n",
        "# put them in a list\n",
        "test_dfToList = test_df['Image_id'].tolist()\n",
        "test_ids = [str(item) for item in test_dfToList]\n",
        "\n",
        "test_images = [test_images_dir+item for item in test_ids]\n",
        "test_preprocessed_images = np.vstack([preprocess_image(fn) for fn in test_images])\n",
        "np.save('/content/test_preproc_CNN.npy', test_preprocessed_images)"
      ],
      "execution_count": null,
      "outputs": []
    },
    {
      "cell_type": "code",
      "metadata": {
        "id": "idO7jhtBksWI",
        "colab": {
          "base_uri": "https://localhost:8080/"
        },
        "outputId": "8c53079b-6e78-4b21-bc93-9d45aae404fe"
      },
      "source": [
        "array = model.predict(test_preprocessed_images, batch_size=1, verbose=1)\n",
        "answer = np.argmax(array, axis=1)\n",
        "print(answer)"
      ],
      "execution_count": null,
      "outputs": [
        {
          "output_type": "stream",
          "text": [
            "30/30 [==============================] - 0s 3ms/step\n",
            "[0 0 3 3 2 0 2 0 0 0 4 3 2 0 2 2 2 2 2 2 3 3 3 4 4 4 4 4 4 4]\n"
          ],
          "name": "stdout"
        }
      ]
    },
    {
      "cell_type": "code",
      "metadata": {
        "id": "XBqnNr0_kvja",
        "colab": {
          "base_uri": "https://localhost:8080/"
        },
        "outputId": "55a86394-a1ee-4983-d312-63daed570a35"
      },
      "source": [
        "test_df = pd.read_csv('/content/dataset/test.csv')\n",
        "y_true = test_df['labels']\n",
        "y_pred = array\n",
        "print(y_true)"
      ],
      "execution_count": null,
      "outputs": [
        {
          "output_type": "stream",
          "text": [
            "0     0\n",
            "1     0\n",
            "2     0\n",
            "3     0\n",
            "4     1\n",
            "5     1\n",
            "6     1\n",
            "7     1\n",
            "8     1\n",
            "9     1\n",
            "10    1\n",
            "11    1\n",
            "12    1\n",
            "13    1\n",
            "14    2\n",
            "15    2\n",
            "16    2\n",
            "17    2\n",
            "18    2\n",
            "19    2\n",
            "20    3\n",
            "21    3\n",
            "22    3\n",
            "23    4\n",
            "24    4\n",
            "25    4\n",
            "26    4\n",
            "27    4\n",
            "28    4\n",
            "29    4\n",
            "Name: labels, dtype: int64\n"
          ],
          "name": "stdout"
        }
      ]
    },
    {
      "cell_type": "code",
      "metadata": {
        "id": "YEeG6m8ik211"
      },
      "source": [
        "from sklearn.metrics import log_loss\n",
        "loss = log_loss(y_true, y_pred, eps=1e-15, normalize=True, sample_weight=None, labels=None)"
      ],
      "execution_count": null,
      "outputs": []
    },
    {
      "cell_type": "code",
      "metadata": {
        "id": "cJeF6L3Dk-re",
        "colab": {
          "base_uri": "https://localhost:8080/"
        },
        "outputId": "9d1ffdc6-59fa-4bbc-9017-f5a9f19407f9"
      },
      "source": [
        "from sklearn.metrics import confusion_matrix\n",
        "conf_mat = confusion_matrix(y_true, answer)\n",
        "conf_mat"
      ],
      "execution_count": null,
      "outputs": [
        {
          "output_type": "execute_result",
          "data": {
            "text/plain": [
              "array([[2, 0, 0, 2, 0],\n",
              "       [5, 0, 3, 1, 1],\n",
              "       [0, 0, 6, 0, 0],\n",
              "       [0, 0, 0, 3, 0],\n",
              "       [0, 0, 0, 0, 7]])"
            ]
          },
          "metadata": {
            "tags": []
          },
          "execution_count": 35
        }
      ]
    },
    {
      "cell_type": "code",
      "metadata": {
        "id": "EpJCHqjfla9x"
      },
      "source": [
        "train_dir = '/content/bark-data/train/'\n",
        "classes = os.listdir(train_dir)"
      ],
      "execution_count": null,
      "outputs": []
    },
    {
      "cell_type": "code",
      "metadata": {
        "id": "Pt6qK1rMloRn"
      },
      "source": [
        "import itertools\n",
        "def plot_confusion_matrix(cm, classes,\n",
        "                          normalize=False,\n",
        "                          title='Confusion matrix',\n",
        "                          cmap=plt.cm.Reds):\n",
        "    \"\"\"\n",
        "    This function prints and plots the confusion matrix.\n",
        "    Normalization can be applied by setting `normalize=True`.\n",
        "    \"\"\"\n",
        "    plt.imshow(cm, interpolation='nearest', cmap=cmap)\n",
        "    plt.title(title)\n",
        "    plt.colorbar()\n",
        "    tick_marks = np.arange(len(classes))\n",
        "    plt.xticks(tick_marks, classes, rotation=45)\n",
        "    plt.yticks(tick_marks, classes)\n",
        "\n",
        "    if normalize:\n",
        "        cm = cm.astype('float') / cm.sum(axis=1)[:, np.newaxis]\n",
        "        cm = cm.round(2)\n",
        "        #print(\"Normalized confusion matrix\")\n",
        "    else:\n",
        "        cm=cm\n",
        "        #print('Confusion matrix, without normalization')\n",
        "\n",
        "    #print(cm)\n",
        "\n",
        "    thresh = cm.max() / 2.\n",
        "    for i, j in itertools.product(range(cm.shape[0]), range(cm.shape[1])):\n",
        "        plt.text(j, i, cm[i, j],\n",
        "                 horizontalalignment=\"center\",\n",
        "                 color=\"white\" if cm[i, j] > thresh else \"black\")\n",
        "\n",
        "    plt.tight_layout()\n",
        "    plt.ylabel('True label')\n",
        "    plt.xlabel('Predicted label')"
      ],
      "execution_count": null,
      "outputs": []
    },
    {
      "cell_type": "code",
      "metadata": {
        "id": "1rKjw0wPlsmP",
        "colab": {
          "base_uri": "https://localhost:8080/",
          "height": 452
        },
        "outputId": "162a00b0-c1c8-478e-d65c-7670e792907d"
      },
      "source": [
        "np.set_printoptions(precision=2)\n",
        "\n",
        "fig1 = plt.figure(figsize=(7,6))\n",
        "plot_confusion_matrix(conf_mat, classes=classes, title='Confusion matrix, without normalization')\n",
        "plt.show()"
      ],
      "execution_count": null,
      "outputs": [
        {
          "output_type": "display_data",
          "data": {
            "image/png": "[encoded data removed]",
            "text/plain": [
              "<Figure size 504x432 with 2 Axes>"
            ]
          },
          "metadata": {
            "tags": [],
            "needs_background": "light"
          }
        }
      ]
    }
  ]
}